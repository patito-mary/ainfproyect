{
 "cells": [
  {
   "cell_type": "code",
   "execution_count": 1,
   "metadata": {},
   "outputs": [],
   "source": [
    "import numpy as np\n",
    "import pandas as pd\n",
    "from rdata import read_file as r_f"
   ]
  },
  {
   "cell_type": "code",
   "execution_count": 2,
   "metadata": {},
   "outputs": [],
   "source": [
    "sussing_125 = r_f(path='C:/Users/patito/gitcosas/ainfproyect/MDPL2mini/', file='sussing_125.z0.000.AHF_halos', columns=[0,1])"
   ]
  },
  {
   "cell_type": "code",
   "execution_count": 3,
   "metadata": {},
   "outputs": [
    {
     "data": {
      "text/plain": [
       "array([(1.26420031e+10, 0.), (1.26420031e+10, 0.), (1.26420031e+10, 0.),\n",
       "       ..., (1.26426464e+10, 0.), (1.26426464e+10, 0.),\n",
       "       (1.26426464e+10, 0.)], dtype=[('ID1', '<f8'), ('hostHalo2', '<f8')])"
      ]
     },
     "execution_count": 3,
     "metadata": {},
     "output_type": "execute_result"
    }
   ],
   "source": [
    "sussing_125.data"
   ]
  },
  {
   "cell_type": "code",
   "execution_count": 11,
   "metadata": {},
   "outputs": [
    {
     "data": {
      "text/plain": [
       "(1.26420031e+10, 1.26420031e+10)"
      ]
     },
     "execution_count": 11,
     "metadata": {},
     "output_type": "execute_result"
    }
   ],
   "source": [
    "r_f.halo_info(sussing_125, index=3, info=True)"
   ]
  },
  {
   "cell_type": "code",
   "execution_count": 5,
   "metadata": {},
   "outputs": [
    {
     "data": {
      "text/plain": [
       "array([(1.26420031e+10, 0.), (1.26420031e+10, 0.), (1.26420031e+10, 0.),\n",
       "       ..., (1.26426464e+10, 0.), (1.26426464e+10, 0.),\n",
       "       (1.26426464e+10, 0.)], dtype=[('ID1', '<f8'), ('hostHalo2', '<f8')])"
      ]
     },
     "execution_count": 5,
     "metadata": {},
     "output_type": "execute_result"
    }
   ],
   "source": [
    "sussing_125.data"
   ]
  },
  {
   "cell_type": "code",
   "execution_count": 6,
   "metadata": {},
   "outputs": [
    {
     "ename": "NameError",
     "evalue": "name 'rd' is not defined",
     "output_type": "error",
     "traceback": [
      "\u001b[1;31m---------------------------------------------------------------------------\u001b[0m",
      "\u001b[1;31mNameError\u001b[0m                                 Traceback (most recent call last)",
      "\u001b[1;32mc:\\Users\\patito\\gitcosas\\ainfproyect\\scripts\\probar.ipynb Cell 6\u001b[0m line \u001b[0;36m1\n\u001b[1;32m----> <a href='vscode-notebook-cell:/c%3A/Users/patito/gitcosas/ainfproyect/scripts/probar.ipynb#W4sZmlsZQ%3D%3D?line=0'>1</a>\u001b[0m distancia \u001b[39m=\u001b[39m rd\u001b[39m.\u001b[39mkinetic(sussing_125\u001b[39m.\u001b[39mhalo_info(\u001b[39m10\u001b[39m),sussing_125\u001b[39m.\u001b[39mhalo_info(\u001b[39m9\u001b[39m))\u001b[39m.\u001b[39mdistance\n",
      "\u001b[1;31mNameError\u001b[0m: name 'rd' is not defined"
     ]
    }
   ],
   "source": [
    "distancia = rd.kinetic(sussing_125.halo_info(10),sussing_125.halo_info(9)).distance"
   ]
  },
  {
   "cell_type": "code",
   "execution_count": null,
   "metadata": {},
   "outputs": [],
   "source": [
    "distancia"
   ]
  },
  {
   "cell_type": "code",
   "execution_count": null,
   "metadata": {},
   "outputs": [],
   "source": [
    "datos  = np.genfromtxt('C:/Users/patito/gitcosas/ainfproyect/MDPL2mini/sussing_125.z0.000.AHF_halos', names=True, unpack=False)"
   ]
  },
  {
   "cell_type": "code",
   "execution_count": null,
   "metadata": {},
   "outputs": [],
   "source": [
    "datos = pd.DataFrame(datos)"
   ]
  },
  {
   "cell_type": "code",
   "execution_count": null,
   "metadata": {},
   "outputs": [],
   "source": [
    "datos"
   ]
  },
  {
   "cell_type": "code",
   "execution_count": null,
   "metadata": {},
   "outputs": [],
   "source": []
  }
 ],
 "metadata": {
  "kernelspec": {
   "display_name": "Python 3",
   "language": "python",
   "name": "python3"
  },
  "language_info": {
   "codemirror_mode": {
    "name": "ipython",
    "version": 3
   },
   "file_extension": ".py",
   "mimetype": "text/x-python",
   "name": "python",
   "nbconvert_exporter": "python",
   "pygments_lexer": "ipython3",
   "version": "3.11.7"
  }
 },
 "nbformat": 4,
 "nbformat_minor": 2
}
